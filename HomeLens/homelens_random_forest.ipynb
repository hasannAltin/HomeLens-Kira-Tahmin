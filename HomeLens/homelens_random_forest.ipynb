{
 "cells": [
  {
   "cell_type": "code",
   "id": "initial_id",
   "metadata": {
    "collapsed": true,
    "ExecuteTime": {
     "end_time": "2025-07-09T15:21:10.710295Z",
     "start_time": "2025-07-09T15:21:10.695865Z"
    }
   },
   "source": [
    "import pandas as pd\n",
    "import numpy as np\n",
    "import matplotlib.pyplot as plt\n",
    "import joblib\n",
    "\n",
    "from sklearn.ensemble import RandomForestRegressor\n",
    "from sklearn.model_selection import GridSearchCV, learning_curve\n",
    "from sklearn.compose import ColumnTransformer\n",
    "from sklearn.preprocessing import OneHotEncoder\n",
    "from sklearn.pipeline import Pipeline\n",
    "\n",
    "\n",
    "df = pd.read_csv(\"homelens_temsili_veri.csv\")\n",
    "df.head()\n"
   ],
   "outputs": [
    {
     "data": {
      "text/plain": [
       "        Semt Oda_Sayisi  Metrekare  Bina_Yasi  Kat          Isitma  \\\n",
       "0  Karşıyaka        2+1        142         17    4           Klima   \n",
       "1   Bayraklı        2+1        111         14    1           Klima   \n",
       "2    Bornova        1+1        139         10    1  Doğalgaz Kombi   \n",
       "3      Konak        2+1        112         13    3           Klima   \n",
       "4    Bornova        1+1        114         19    3  Doğalgaz Kombi   \n",
       "\n",
       "  Site_Icinde Esyali Asansor Balkon Manzara  Aidat   Kira  \n",
       "0        Evet  Hayır    Evet   Evet   Şehir    243  34156  \n",
       "1        Evet   Evet   Hayır   Evet   Şehir    584  22746  \n",
       "2       Hayır   Evet    Evet   Evet   Deniz    211  28713  \n",
       "3       Hayır  Hayır   Hayır  Hayır     Yok    721  22354  \n",
       "4        Evet   Evet    Evet   Evet   Deniz     55  26047  "
      ],
      "text/html": [
       "<div>\n",
       "<style scoped>\n",
       "    .dataframe tbody tr th:only-of-type {\n",
       "        vertical-align: middle;\n",
       "    }\n",
       "\n",
       "    .dataframe tbody tr th {\n",
       "        vertical-align: top;\n",
       "    }\n",
       "\n",
       "    .dataframe thead th {\n",
       "        text-align: right;\n",
       "    }\n",
       "</style>\n",
       "<table border=\"1\" class=\"dataframe\">\n",
       "  <thead>\n",
       "    <tr style=\"text-align: right;\">\n",
       "      <th></th>\n",
       "      <th>Semt</th>\n",
       "      <th>Oda_Sayisi</th>\n",
       "      <th>Metrekare</th>\n",
       "      <th>Bina_Yasi</th>\n",
       "      <th>Kat</th>\n",
       "      <th>Isitma</th>\n",
       "      <th>Site_Icinde</th>\n",
       "      <th>Esyali</th>\n",
       "      <th>Asansor</th>\n",
       "      <th>Balkon</th>\n",
       "      <th>Manzara</th>\n",
       "      <th>Aidat</th>\n",
       "      <th>Kira</th>\n",
       "    </tr>\n",
       "  </thead>\n",
       "  <tbody>\n",
       "    <tr>\n",
       "      <th>0</th>\n",
       "      <td>Karşıyaka</td>\n",
       "      <td>2+1</td>\n",
       "      <td>142</td>\n",
       "      <td>17</td>\n",
       "      <td>4</td>\n",
       "      <td>Klima</td>\n",
       "      <td>Evet</td>\n",
       "      <td>Hayır</td>\n",
       "      <td>Evet</td>\n",
       "      <td>Evet</td>\n",
       "      <td>Şehir</td>\n",
       "      <td>243</td>\n",
       "      <td>34156</td>\n",
       "    </tr>\n",
       "    <tr>\n",
       "      <th>1</th>\n",
       "      <td>Bayraklı</td>\n",
       "      <td>2+1</td>\n",
       "      <td>111</td>\n",
       "      <td>14</td>\n",
       "      <td>1</td>\n",
       "      <td>Klima</td>\n",
       "      <td>Evet</td>\n",
       "      <td>Evet</td>\n",
       "      <td>Hayır</td>\n",
       "      <td>Evet</td>\n",
       "      <td>Şehir</td>\n",
       "      <td>584</td>\n",
       "      <td>22746</td>\n",
       "    </tr>\n",
       "    <tr>\n",
       "      <th>2</th>\n",
       "      <td>Bornova</td>\n",
       "      <td>1+1</td>\n",
       "      <td>139</td>\n",
       "      <td>10</td>\n",
       "      <td>1</td>\n",
       "      <td>Doğalgaz Kombi</td>\n",
       "      <td>Hayır</td>\n",
       "      <td>Evet</td>\n",
       "      <td>Evet</td>\n",
       "      <td>Evet</td>\n",
       "      <td>Deniz</td>\n",
       "      <td>211</td>\n",
       "      <td>28713</td>\n",
       "    </tr>\n",
       "    <tr>\n",
       "      <th>3</th>\n",
       "      <td>Konak</td>\n",
       "      <td>2+1</td>\n",
       "      <td>112</td>\n",
       "      <td>13</td>\n",
       "      <td>3</td>\n",
       "      <td>Klima</td>\n",
       "      <td>Hayır</td>\n",
       "      <td>Hayır</td>\n",
       "      <td>Hayır</td>\n",
       "      <td>Hayır</td>\n",
       "      <td>Yok</td>\n",
       "      <td>721</td>\n",
       "      <td>22354</td>\n",
       "    </tr>\n",
       "    <tr>\n",
       "      <th>4</th>\n",
       "      <td>Bornova</td>\n",
       "      <td>1+1</td>\n",
       "      <td>114</td>\n",
       "      <td>19</td>\n",
       "      <td>3</td>\n",
       "      <td>Doğalgaz Kombi</td>\n",
       "      <td>Evet</td>\n",
       "      <td>Evet</td>\n",
       "      <td>Evet</td>\n",
       "      <td>Evet</td>\n",
       "      <td>Deniz</td>\n",
       "      <td>55</td>\n",
       "      <td>26047</td>\n",
       "    </tr>\n",
       "  </tbody>\n",
       "</table>\n",
       "</div>"
      ]
     },
     "execution_count": 16,
     "metadata": {},
     "output_type": "execute_result"
    }
   ],
   "execution_count": 16
  },
  {
   "metadata": {
    "ExecuteTime": {
     "end_time": "2025-07-09T15:21:10.792975Z",
     "start_time": "2025-07-09T15:21:10.785676Z"
    }
   },
   "cell_type": "code",
   "source": [
    "X = df.drop(\"Kira\", axis=1)\n",
    "y = df[\"Kira\"]\n"
   ],
   "id": "e9479acbb51bbd6c",
   "outputs": [],
   "execution_count": 17
  },
  {
   "metadata": {
    "ExecuteTime": {
     "end_time": "2025-07-09T15:21:10.879288Z",
     "start_time": "2025-07-09T15:21:10.872287Z"
    }
   },
   "cell_type": "code",
   "source": [
    "sayisal_sutunlar = X.select_dtypes(include=['int64', 'float64']).columns.tolist()\n",
    "kategorik_sutunlar = X.select_dtypes(include=['object', 'bool']).columns.tolist()\n",
    "\n",
    "print(\"Sayısal sütunlar:\", sayisal_sutunlar)\n",
    "print(\"Kategorik sütunlar:\", kategorik_sutunlar)\n"
   ],
   "id": "8c2c52110b9e4882",
   "outputs": [
    {
     "name": "stdout",
     "output_type": "stream",
     "text": [
      "Sayısal sütunlar: ['Metrekare', 'Bina_Yasi', 'Kat', 'Aidat']\n",
      "Kategorik sütunlar: ['Semt', 'Oda_Sayisi', 'Isitma', 'Site_Icinde', 'Esyali', 'Asansor', 'Balkon', 'Manzara']\n"
     ]
    }
   ],
   "execution_count": 18
  },
  {
   "metadata": {
    "ExecuteTime": {
     "end_time": "2025-07-09T15:21:11.080845Z",
     "start_time": "2025-07-09T15:21:11.076515Z"
    }
   },
   "cell_type": "code",
   "source": [
    "preprocessor = ColumnTransformer(\n",
    "    transformers=[\n",
    "        (\"cat\", OneHotEncoder(handle_unknown=\"ignore\"), kategorik_sutunlar)\n",
    "    ],\n",
    "    remainder=\"passthrough\"\n",
    ")\n"
   ],
   "id": "698a01a4ec814b62",
   "outputs": [],
   "execution_count": 19
  },
  {
   "metadata": {
    "ExecuteTime": {
     "end_time": "2025-07-09T15:21:11.133994Z",
     "start_time": "2025-07-09T15:21:11.129882Z"
    }
   },
   "cell_type": "code",
   "source": [
    "pipeline = Pipeline([\n",
    "    (\"preprocess\", preprocessor),\n",
    "    (\"model\", RandomForestRegressor(random_state=42))\n",
    "])\n",
    "\n",
    "param_grid = {\n",
    "    \"model__n_estimators\": [50, 100],\n",
    "    \"model__max_depth\": [None, 10, 20],\n",
    "    \"model__min_samples_split\": [2, 5]\n",
    "}\n"
   ],
   "id": "8e6366ff7474ce60",
   "outputs": [],
   "execution_count": 20
  },
  {
   "metadata": {
    "ExecuteTime": {
     "end_time": "2025-07-09T15:21:24.776035Z",
     "start_time": "2025-07-09T15:21:11.193523Z"
    }
   },
   "cell_type": "code",
   "source": [
    "gs = GridSearchCV(pipeline, param_grid, cv=5, scoring='neg_mean_squared_error', n_jobs=-1)\n",
    "gs.fit(X, y)\n",
    "\n",
    "print(\"En iyi RMSE:\", np.sqrt(-gs.best_score_))\n",
    "print(\"En iyi parametreler:\", gs.best_params_)\n"
   ],
   "id": "d48d21c7d4d7513f",
   "outputs": [
    {
     "name": "stdout",
     "output_type": "stream",
     "text": [
      "En iyi RMSE: 1301.4515249643378\n",
      "En iyi parametreler: {'model__max_depth': None, 'model__min_samples_split': 2, 'model__n_estimators': 100}\n"
     ]
    }
   ],
   "execution_count": 21
  },
  {
   "metadata": {
    "ExecuteTime": {
     "end_time": "2025-07-09T15:21:24.827051Z",
     "start_time": "2025-07-09T15:21:24.820637Z"
    }
   },
   "cell_type": "code",
   "source": [
    "def plot_learning_curve(estimator, X, y, title):\n",
    "    from sklearn.model_selection import learning_curve\n",
    "    train_sizes, train_scores, val_scores = learning_curve(\n",
    "        estimator, X, y, cv=5, scoring='neg_mean_squared_error',\n",
    "        train_sizes=np.linspace(0.1, 1.0, 10), n_jobs=-1\n",
    "    )\n",
    "    train_rmse = np.sqrt(-train_scores)\n",
    "    val_rmse = np.sqrt(-val_scores)\n",
    "\n",
    "    plt.figure(figsize=(8,6))\n",
    "    plt.plot(train_sizes, train_rmse.mean(axis=1), label='Training RMSE')\n",
    "    plt.plot(train_sizes, val_rmse.mean(axis=1), label='Validation RMSE')\n",
    "    plt.title(title)\n",
    "    plt.xlabel('Training Set Size')\n",
    "    plt.ylabel('RMSE')\n",
    "    plt.legend()\n",
    "    plt.grid()\n",
    "    plt.show()\n"
   ],
   "id": "7cc4391a793cebd0",
   "outputs": [],
   "execution_count": 22
  },
  {
   "metadata": {
    "ExecuteTime": {
     "end_time": "2025-07-09T15:21:30.064648Z",
     "start_time": "2025-07-09T15:21:24.881800Z"
    }
   },
   "cell_type": "code",
   "source": "plot_learning_curve(gs.best_estimator_, X, y, \"Random Forest Learning Curve\")\n",
   "id": "cf9c577e354d0263",
   "outputs": [
    {
     "data": {
      "text/plain": [
       "<Figure size 800x600 with 1 Axes>"
      ],
      "image/png": "[encoded data removed]"
     },
     "metadata": {},
     "output_type": "display_data"
    }
   ],
   "execution_count": 23
  },
  {
   "metadata": {
    "ExecuteTime": {
     "end_time": "2025-07-09T15:21:30.191494Z",
     "start_time": "2025-07-09T15:21:30.122966Z"
    }
   },
   "cell_type": "code",
   "source": [
    "best_rf_model = gs.best_estimator_\n",
    "joblib.dump(best_rf_model, 'rf_model.pkl')"
   ],
   "id": "2310a38e99e6de63",
   "outputs": [
    {
     "data": {
      "text/plain": [
       "['rf_model.pkl']"
      ]
     },
     "execution_count": 24,
     "metadata": {},
     "output_type": "execute_result"
    }
   ],
   "execution_count": 24
  }
 ],
 "metadata": {
  "kernelspec": {
   "display_name": "Python 3",
   "language": "python",
   "name": "python3"
  },
  "language_info": {
   "codemirror_mode": {
    "name": "ipython",
    "version": 2
   },
   "file_extension": ".py",
   "mimetype": "text/x-python",
   "name": "python",
   "nbconvert_exporter": "python",
   "pygments_lexer": "ipython2",
   "version": "2.7.6"
  }
 },
 "nbformat": 4,
 "nbformat_minor": 5
}
