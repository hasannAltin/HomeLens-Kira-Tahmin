{
 "cells": [
  {
   "cell_type": "code",
   "id": "initial_id",
   "metadata": {
    "collapsed": true,
    "ExecuteTime": {
     "end_time": "2025-07-09T15:23:07.750608Z",
     "start_time": "2025-07-09T15:23:07.735696Z"
    }
   },
   "source": [
    "import pandas as pd\n",
    "import numpy as np\n",
    "import matplotlib.pyplot as plt\n",
    "import joblib\n",
    "\n",
    "from xgboost import XGBRegressor\n",
    "from sklearn.model_selection import GridSearchCV, learning_curve\n",
    "from sklearn.compose import ColumnTransformer\n",
    "from sklearn.preprocessing import OneHotEncoder\n",
    "from sklearn.pipeline import Pipeline\n",
    "\n",
    "df = pd.read_csv(\"homelens_temsili_veri.csv\")\n",
    "df.head()\n"
   ],
   "outputs": [
    {
     "data": {
      "text/plain": [
       "        Semt Oda_Sayisi  Metrekare  Bina_Yasi  Kat          Isitma  \\\n",
       "0  Karşıyaka        2+1        142         17    4           Klima   \n",
       "1   Bayraklı        2+1        111         14    1           Klima   \n",
       "2    Bornova        1+1        139         10    1  Doğalgaz Kombi   \n",
       "3      Konak        2+1        112         13    3           Klima   \n",
       "4    Bornova        1+1        114         19    3  Doğalgaz Kombi   \n",
       "\n",
       "  Site_Icinde Esyali Asansor Balkon Manzara  Aidat   Kira  \n",
       "0        Evet  Hayır    Evet   Evet   Şehir    243  34156  \n",
       "1        Evet   Evet   Hayır   Evet   Şehir    584  22746  \n",
       "2       Hayır   Evet    Evet   Evet   Deniz    211  28713  \n",
       "3       Hayır  Hayır   Hayır  Hayır     Yok    721  22354  \n",
       "4        Evet   Evet    Evet   Evet   Deniz     55  26047  "
      ],
      "text/html": [
       "<div>\n",
       "<style scoped>\n",
       "    .dataframe tbody tr th:only-of-type {\n",
       "        vertical-align: middle;\n",
       "    }\n",
       "\n",
       "    .dataframe tbody tr th {\n",
       "        vertical-align: top;\n",
       "    }\n",
       "\n",
       "    .dataframe thead th {\n",
       "        text-align: right;\n",
       "    }\n",
       "</style>\n",
       "<table border=\"1\" class=\"dataframe\">\n",
       "  <thead>\n",
       "    <tr style=\"text-align: right;\">\n",
       "      <th></th>\n",
       "      <th>Semt</th>\n",
       "      <th>Oda_Sayisi</th>\n",
       "      <th>Metrekare</th>\n",
       "      <th>Bina_Yasi</th>\n",
       "      <th>Kat</th>\n",
       "      <th>Isitma</th>\n",
       "      <th>Site_Icinde</th>\n",
       "      <th>Esyali</th>\n",
       "      <th>Asansor</th>\n",
       "      <th>Balkon</th>\n",
       "      <th>Manzara</th>\n",
       "      <th>Aidat</th>\n",
       "      <th>Kira</th>\n",
       "    </tr>\n",
       "  </thead>\n",
       "  <tbody>\n",
       "    <tr>\n",
       "      <th>0</th>\n",
       "      <td>Karşıyaka</td>\n",
       "      <td>2+1</td>\n",
       "      <td>142</td>\n",
       "      <td>17</td>\n",
       "      <td>4</td>\n",
       "      <td>Klima</td>\n",
       "      <td>Evet</td>\n",
       "      <td>Hayır</td>\n",
       "      <td>Evet</td>\n",
       "      <td>Evet</td>\n",
       "      <td>Şehir</td>\n",
       "      <td>243</td>\n",
       "      <td>34156</td>\n",
       "    </tr>\n",
       "    <tr>\n",
       "      <th>1</th>\n",
       "      <td>Bayraklı</td>\n",
       "      <td>2+1</td>\n",
       "      <td>111</td>\n",
       "      <td>14</td>\n",
       "      <td>1</td>\n",
       "      <td>Klima</td>\n",
       "      <td>Evet</td>\n",
       "      <td>Evet</td>\n",
       "      <td>Hayır</td>\n",
       "      <td>Evet</td>\n",
       "      <td>Şehir</td>\n",
       "      <td>584</td>\n",
       "      <td>22746</td>\n",
       "    </tr>\n",
       "    <tr>\n",
       "      <th>2</th>\n",
       "      <td>Bornova</td>\n",
       "      <td>1+1</td>\n",
       "      <td>139</td>\n",
       "      <td>10</td>\n",
       "      <td>1</td>\n",
       "      <td>Doğalgaz Kombi</td>\n",
       "      <td>Hayır</td>\n",
       "      <td>Evet</td>\n",
       "      <td>Evet</td>\n",
       "      <td>Evet</td>\n",
       "      <td>Deniz</td>\n",
       "      <td>211</td>\n",
       "      <td>28713</td>\n",
       "    </tr>\n",
       "    <tr>\n",
       "      <th>3</th>\n",
       "      <td>Konak</td>\n",
       "      <td>2+1</td>\n",
       "      <td>112</td>\n",
       "      <td>13</td>\n",
       "      <td>3</td>\n",
       "      <td>Klima</td>\n",
       "      <td>Hayır</td>\n",
       "      <td>Hayır</td>\n",
       "      <td>Hayır</td>\n",
       "      <td>Hayır</td>\n",
       "      <td>Yok</td>\n",
       "      <td>721</td>\n",
       "      <td>22354</td>\n",
       "    </tr>\n",
       "    <tr>\n",
       "      <th>4</th>\n",
       "      <td>Bornova</td>\n",
       "      <td>1+1</td>\n",
       "      <td>114</td>\n",
       "      <td>19</td>\n",
       "      <td>3</td>\n",
       "      <td>Doğalgaz Kombi</td>\n",
       "      <td>Evet</td>\n",
       "      <td>Evet</td>\n",
       "      <td>Evet</td>\n",
       "      <td>Evet</td>\n",
       "      <td>Deniz</td>\n",
       "      <td>55</td>\n",
       "      <td>26047</td>\n",
       "    </tr>\n",
       "  </tbody>\n",
       "</table>\n",
       "</div>"
      ]
     },
     "execution_count": 20,
     "metadata": {},
     "output_type": "execute_result"
    }
   ],
   "execution_count": 20
  },
  {
   "metadata": {
    "ExecuteTime": {
     "end_time": "2025-07-09T15:23:07.836774Z",
     "start_time": "2025-07-09T15:23:07.826773Z"
    }
   },
   "cell_type": "code",
   "source": "df.info()",
   "id": "1b131ef24fee4740",
   "outputs": [
    {
     "name": "stdout",
     "output_type": "stream",
     "text": [
      "<class 'pandas.core.frame.DataFrame'>\n",
      "RangeIndex: 500 entries, 0 to 499\n",
      "Data columns (total 13 columns):\n",
      " #   Column       Non-Null Count  Dtype \n",
      "---  ------       --------------  ----- \n",
      " 0   Semt         500 non-null    object\n",
      " 1   Oda_Sayisi   500 non-null    object\n",
      " 2   Metrekare    500 non-null    int64 \n",
      " 3   Bina_Yasi    500 non-null    int64 \n",
      " 4   Kat          500 non-null    int64 \n",
      " 5   Isitma       500 non-null    object\n",
      " 6   Site_Icinde  500 non-null    object\n",
      " 7   Esyali       500 non-null    object\n",
      " 8   Asansor      500 non-null    object\n",
      " 9   Balkon       500 non-null    object\n",
      " 10  Manzara      500 non-null    object\n",
      " 11  Aidat        500 non-null    int64 \n",
      " 12  Kira         500 non-null    int64 \n",
      "dtypes: int64(5), object(8)\n",
      "memory usage: 50.9+ KB\n"
     ]
    }
   ],
   "execution_count": 21
  },
  {
   "metadata": {
    "ExecuteTime": {
     "end_time": "2025-07-09T15:23:07.926798Z",
     "start_time": "2025-07-09T15:23:07.920333Z"
    }
   },
   "cell_type": "code",
   "source": "print(df.isnull().sum())",
   "id": "45c4c0db318e661f",
   "outputs": [
    {
     "name": "stdout",
     "output_type": "stream",
     "text": [
      "Semt           0\n",
      "Oda_Sayisi     0\n",
      "Metrekare      0\n",
      "Bina_Yasi      0\n",
      "Kat            0\n",
      "Isitma         0\n",
      "Site_Icinde    0\n",
      "Esyali         0\n",
      "Asansor        0\n",
      "Balkon         0\n",
      "Manzara        0\n",
      "Aidat          0\n",
      "Kira           0\n",
      "dtype: int64\n"
     ]
    }
   ],
   "execution_count": 22
  },
  {
   "metadata": {
    "ExecuteTime": {
     "end_time": "2025-07-09T15:23:08.011520Z",
     "start_time": "2025-07-09T15:23:08.006195Z"
    }
   },
   "cell_type": "code",
   "source": [
    "X = df.drop(\"Kira\", axis=1)\n",
    "y = df[\"Kira\"]\n"
   ],
   "id": "1b416eefebe55fe0",
   "outputs": [],
   "execution_count": 23
  },
  {
   "metadata": {
    "ExecuteTime": {
     "end_time": "2025-07-09T15:23:08.092491Z",
     "start_time": "2025-07-09T15:23:08.087090Z"
    }
   },
   "cell_type": "code",
   "source": "print(X.dtypes)",
   "id": "7f3f63dbfacc93ae",
   "outputs": [
    {
     "name": "stdout",
     "output_type": "stream",
     "text": [
      "Semt           object\n",
      "Oda_Sayisi     object\n",
      "Metrekare       int64\n",
      "Bina_Yasi       int64\n",
      "Kat             int64\n",
      "Isitma         object\n",
      "Site_Icinde    object\n",
      "Esyali         object\n",
      "Asansor        object\n",
      "Balkon         object\n",
      "Manzara        object\n",
      "Aidat           int64\n",
      "dtype: object\n"
     ]
    }
   ],
   "execution_count": 24
  },
  {
   "metadata": {
    "ExecuteTime": {
     "end_time": "2025-07-09T15:23:08.153449Z",
     "start_time": "2025-07-09T15:23:08.147515Z"
    }
   },
   "cell_type": "code",
   "source": [
    "sayisal_sutunlar = X.select_dtypes(include=['int64', 'float64']).columns.tolist()\n",
    "kategorik_sutunlar = X.select_dtypes(include=['object', 'bool']).columns.tolist()\n",
    "\n",
    "print(\"Sayısal sütunlar:\", sayisal_sutunlar)\n",
    "print(\"Kategorik sütunlar:\", kategorik_sutunlar)\n"
   ],
   "id": "8bebf915f6632ae0",
   "outputs": [
    {
     "name": "stdout",
     "output_type": "stream",
     "text": [
      "Sayısal sütunlar: ['Metrekare', 'Bina_Yasi', 'Kat', 'Aidat']\n",
      "Kategorik sütunlar: ['Semt', 'Oda_Sayisi', 'Isitma', 'Site_Icinde', 'Esyali', 'Asansor', 'Balkon', 'Manzara']\n"
     ]
    }
   ],
   "execution_count": 25
  },
  {
   "metadata": {
    "ExecuteTime": {
     "end_time": "2025-07-09T15:23:08.215488Z",
     "start_time": "2025-07-09T15:23:08.210459Z"
    }
   },
   "cell_type": "code",
   "source": [
    "preprocessor = ColumnTransformer(\n",
    "    transformers=[\n",
    "        (\"cat\", OneHotEncoder(handle_unknown=\"ignore\"), kategorik_sutunlar)\n",
    "    ],\n",
    "    remainder=\"passthrough\"\n",
    ")\n"
   ],
   "id": "97674b5807f612e5",
   "outputs": [],
   "execution_count": 26
  },
  {
   "metadata": {
    "ExecuteTime": {
     "end_time": "2025-07-09T15:23:08.276705Z",
     "start_time": "2025-07-09T15:23:08.271354Z"
    }
   },
   "cell_type": "code",
   "source": [
    "pipeline = Pipeline([\n",
    "    (\"preprocess\", preprocessor),\n",
    "    (\"model\", XGBRegressor(random_state=42, objective='reg:squarederror'))\n",
    "])\n",
    "\n",
    "param_grid = {\n",
    "    \"model__n_estimators\": [50, 100],\n",
    "    \"model__max_depth\": [3, 6],\n",
    "    \"model__learning_rate\": [0.1, 0.01]\n",
    "}\n"
   ],
   "id": "8cdcdcd0647360df",
   "outputs": [],
   "execution_count": 27
  },
  {
   "metadata": {
    "ExecuteTime": {
     "end_time": "2025-07-09T15:23:17.202559Z",
     "start_time": "2025-07-09T15:23:08.299972Z"
    }
   },
   "cell_type": "code",
   "source": [
    "gs = GridSearchCV(pipeline, param_grid, cv=5, scoring='neg_mean_squared_error', n_jobs=-1)\n",
    "gs.fit(X, y)\n",
    "\n",
    "print(\"En iyi RMSE:\", np.sqrt(-gs.best_score_))\n",
    "print(\"En iyi parametreler:\", gs.best_params_)\n"
   ],
   "id": "85f49a4681cb18d6",
   "outputs": [
    {
     "name": "stdout",
     "output_type": "stream",
     "text": [
      "En iyi RMSE: 884.8610696035847\n",
      "En iyi parametreler: {'model__learning_rate': 0.1, 'model__max_depth': 3, 'model__n_estimators': 100}\n"
     ]
    }
   ],
   "execution_count": 28
  },
  {
   "metadata": {
    "ExecuteTime": {
     "end_time": "2025-07-09T15:23:17.349337Z",
     "start_time": "2025-07-09T15:23:17.341341Z"
    }
   },
   "cell_type": "code",
   "source": [
    "def plot_learning_curve(estimator, X, y, title):\n",
    "    from sklearn.model_selection import learning_curve\n",
    "    train_sizes, train_scores, val_scores = learning_curve(\n",
    "        estimator, X, y, cv=5, scoring='neg_mean_squared_error',\n",
    "        train_sizes=np.linspace(0.1, 1.0, 10), n_jobs=-1\n",
    "    )\n",
    "    train_rmse = np.sqrt(-train_scores)\n",
    "    val_rmse = np.sqrt(-val_scores)\n",
    "\n",
    "    plt.figure(figsize=(8,6))\n",
    "    plt.plot(train_sizes, train_rmse.mean(axis=1), label='Training RMSE')\n",
    "    plt.plot(train_sizes, val_rmse.mean(axis=1), label='Validation RMSE')\n",
    "    plt.title(title)\n",
    "    plt.xlabel('Training Set Size')\n",
    "    plt.ylabel('RMSE')\n",
    "    plt.legend()\n",
    "    plt.grid()\n",
    "    plt.show()\n"
   ],
   "id": "1f4d508c8cb6a6a9",
   "outputs": [],
   "execution_count": 29
  },
  {
   "metadata": {
    "ExecuteTime": {
     "end_time": "2025-07-09T15:23:18.255905Z",
     "start_time": "2025-07-09T15:23:17.369348Z"
    }
   },
   "cell_type": "code",
   "source": "plot_learning_curve(gs.best_estimator_, X, y, \"XGBoost Learning Curve\")\n",
   "id": "539f1141687c287e",
   "outputs": [
    {
     "data": {
      "text/plain": [
       "<Figure size 800x600 with 1 Axes>"
      ],
      "image/png": "[encoded data removed]"
     },
     "metadata": {},
     "output_type": "display_data"
    }
   ],
   "execution_count": 30
  },
  {
   "metadata": {
    "ExecuteTime": {
     "end_time": "2025-07-09T15:26:16.349365Z",
     "start_time": "2025-07-09T15:26:16.335391Z"
    }
   },
   "cell_type": "code",
   "source": [
    "best_xgb_model = gs.best_estimator_  # XGBoost GridSearch sonucu\n",
    "joblib.dump(best_xgb_model, 'xgb_model.pkl')\n"
   ],
   "id": "e6e8b700a2f4085b",
   "outputs": [
    {
     "data": {
      "text/plain": [
       "['xgb_model.pkl']"
      ]
     },
     "execution_count": 32,
     "metadata": {},
     "output_type": "execute_result"
    }
   ],
   "execution_count": 32
  }
 ],
 "metadata": {
  "kernelspec": {
   "display_name": "Python 3",
   "language": "python",
   "name": "python3"
  },
  "language_info": {
   "codemirror_mode": {
    "name": "ipython",
    "version": 2
   },
   "file_extension": ".py",
   "mimetype": "text/x-python",
   "name": "python",
   "nbconvert_exporter": "python",
   "pygments_lexer": "ipython2",
   "version": "2.7.6"
  }
 },
 "nbformat": 4,
 "nbformat_minor": 5
}
