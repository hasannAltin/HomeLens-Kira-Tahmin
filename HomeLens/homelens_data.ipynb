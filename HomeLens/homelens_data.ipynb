{
 "cells": [
  {
   "cell_type": "code",
   "id": "initial_id",
   "metadata": {
    "collapsed": true,
    "ExecuteTime": {
     "end_time": "2025-07-09T14:19:34.707780Z",
     "start_time": "2025-07-09T14:19:34.702739Z"
    }
   },
   "source": [
    "import pandas as pd\n",
    "import random"
   ],
   "outputs": [],
   "execution_count": 13
  },
  {
   "metadata": {
    "ExecuteTime": {
     "end_time": "2025-07-09T14:19:34.727030Z",
     "start_time": "2025-07-09T14:19:34.721690Z"
    }
   },
   "cell_type": "code",
   "source": [
    "semt_baz_fiyat = {\n",
    "    'Bornova': 195,\n",
    "    'Karşıyaka': 220,\n",
    "    'Buca': 170,\n",
    "    'Bayraklı': 190,\n",
    "    'Konak': 210,\n",
    "    'Balçova': 180,\n",
    "    'Karabağlar': 170\n",
    "}\n",
    "semtler = list(semt_baz_fiyat.keys())\n",
    "oda_sayilari = ['1+1', '2+1', '3+1', '4+1']\n",
    "isitma_tipleri = ['Doğalgaz Kombi', 'Merkezi Sistem', 'Soba', 'Klima']\n",
    "site_durumlari = ['Evet', 'Hayır']\n",
    "esya_durumlari = ['Evet', 'Hayır']\n",
    "asansor_durumlari = ['Evet', 'Hayır']\n",
    "balkon_durumlari = ['Evet', 'Hayır']\n",
    "manzara_durumlari = ['Şehir', 'Deniz', 'Yok']"
   ],
   "id": "4491a95e9e35eaac",
   "outputs": [],
   "execution_count": 14
  },
  {
   "metadata": {
    "ExecuteTime": {
     "end_time": "2025-07-09T14:19:34.750735Z",
     "start_time": "2025-07-09T14:19:34.742906Z"
    }
   },
   "cell_type": "code",
   "source": [
    "def manzara_puan(manzara):\n",
    "    if manzara == 'Deniz':\n",
    "        return 1000\n",
    "    elif manzara == 'Şehir':\n",
    "        return 600\n",
    "    else:\n",
    "        return 0\n",
    "\n",
    "\n",
    "def veri_uret(adet=500):\n",
    "    veri = []\n",
    "\n",
    "    for _ in range(adet):\n",
    "        semt = random.choice(semtler)\n",
    "        baz_fiyat = semt_baz_fiyat[semt]\n",
    "\n",
    "        oda = random.choice(oda_sayilari)\n",
    "        metrekare = random.randint(60, 180)\n",
    "        bina_yasi = random.randint(0, 30)\n",
    "        kat = random.randint(1, 4)\n",
    "\n",
    "        isitma = random.choice(isitma_tipleri)\n",
    "        site = random.choice(site_durumlari)\n",
    "        esyali = random.choice(esya_durumlari)\n",
    "        asansor = random.choice(asansor_durumlari)\n",
    "        balkon = random.choice(balkon_durumlari)\n",
    "        manzara = random.choice(manzara_durumlari)\n",
    "        aidat = random.randint(0, 1000)\n",
    "\n",
    "        fiyat = (metrekare * baz_fiyat\n",
    "                 +(1000 if site == 'Evet' else 0)\n",
    "                 +(500 if esyali == 'Evet' else 0)\n",
    "                 +(700 if asansor == 'Evet' else -300)\n",
    "                 +(400 if balkon == 'Evet' else 0)\n",
    "                 +manzara_puan(manzara)\n",
    "                 +random.randint(-1000,1000)\n",
    "                 -(bina_yasi * 30))\n",
    "\n",
    "        fiyat = max(fiyat, 7000)\n",
    "\n",
    "        veri.append([semt, oda, metrekare, bina_yasi,\n",
    "                     kat, isitma, site, esyali, asansor,\n",
    "                     balkon, manzara, aidat, int(fiyat)])\n",
    "\n",
    "    df = pd.DataFrame(veri, columns=[\n",
    "        'Semt', 'Oda_Sayisi', 'Metrekare', 'Bina_Yasi', 'Kat',\n",
    "        'Isitma', 'Site_Icinde', 'Esyali', 'Asansor', 'Balkon',\n",
    "        'Manzara', 'Aidat', 'Kira'\n",
    "    ])\n",
    "\n",
    "    return df"
   ],
   "id": "173cdc58fc6492be",
   "outputs": [],
   "execution_count": 15
  },
  {
   "metadata": {
    "ExecuteTime": {
     "end_time": "2025-07-09T14:19:34.783933Z",
     "start_time": "2025-07-09T14:19:34.767869Z"
    }
   },
   "cell_type": "code",
   "source": [
    "df = veri_uret(500)\n",
    "df.head()\n"
   ],
   "id": "933bb32d8d23be7a",
   "outputs": [
    {
     "data": {
      "text/plain": [
       "        Semt Oda_Sayisi  Metrekare  Bina_Yasi  Kat          Isitma  \\\n",
       "0  Karşıyaka        2+1        142         17    4           Klima   \n",
       "1   Bayraklı        2+1        111         14    1           Klima   \n",
       "2    Bornova        1+1        139         10    1  Doğalgaz Kombi   \n",
       "3      Konak        2+1        112         13    3           Klima   \n",
       "4    Bornova        1+1        114         19    3  Doğalgaz Kombi   \n",
       "\n",
       "  Site_Icinde Esyali Asansor Balkon Manzara  Aidat   Kira  \n",
       "0        Evet  Hayır    Evet   Evet   Şehir    243  34156  \n",
       "1        Evet   Evet   Hayır   Evet   Şehir    584  22746  \n",
       "2       Hayır   Evet    Evet   Evet   Deniz    211  28713  \n",
       "3       Hayır  Hayır   Hayır  Hayır     Yok    721  22354  \n",
       "4        Evet   Evet    Evet   Evet   Deniz     55  26047  "
      ],
      "text/html": [
       "<div>\n",
       "<style scoped>\n",
       "    .dataframe tbody tr th:only-of-type {\n",
       "        vertical-align: middle;\n",
       "    }\n",
       "\n",
       "    .dataframe tbody tr th {\n",
       "        vertical-align: top;\n",
       "    }\n",
       "\n",
       "    .dataframe thead th {\n",
       "        text-align: right;\n",
       "    }\n",
       "</style>\n",
       "<table border=\"1\" class=\"dataframe\">\n",
       "  <thead>\n",
       "    <tr style=\"text-align: right;\">\n",
       "      <th></th>\n",
       "      <th>Semt</th>\n",
       "      <th>Oda_Sayisi</th>\n",
       "      <th>Metrekare</th>\n",
       "      <th>Bina_Yasi</th>\n",
       "      <th>Kat</th>\n",
       "      <th>Isitma</th>\n",
       "      <th>Site_Icinde</th>\n",
       "      <th>Esyali</th>\n",
       "      <th>Asansor</th>\n",
       "      <th>Balkon</th>\n",
       "      <th>Manzara</th>\n",
       "      <th>Aidat</th>\n",
       "      <th>Kira</th>\n",
       "    </tr>\n",
       "  </thead>\n",
       "  <tbody>\n",
       "    <tr>\n",
       "      <th>0</th>\n",
       "      <td>Karşıyaka</td>\n",
       "      <td>2+1</td>\n",
       "      <td>142</td>\n",
       "      <td>17</td>\n",
       "      <td>4</td>\n",
       "      <td>Klima</td>\n",
       "      <td>Evet</td>\n",
       "      <td>Hayır</td>\n",
       "      <td>Evet</td>\n",
       "      <td>Evet</td>\n",
       "      <td>Şehir</td>\n",
       "      <td>243</td>\n",
       "      <td>34156</td>\n",
       "    </tr>\n",
       "    <tr>\n",
       "      <th>1</th>\n",
       "      <td>Bayraklı</td>\n",
       "      <td>2+1</td>\n",
       "      <td>111</td>\n",
       "      <td>14</td>\n",
       "      <td>1</td>\n",
       "      <td>Klima</td>\n",
       "      <td>Evet</td>\n",
       "      <td>Evet</td>\n",
       "      <td>Hayır</td>\n",
       "      <td>Evet</td>\n",
       "      <td>Şehir</td>\n",
       "      <td>584</td>\n",
       "      <td>22746</td>\n",
       "    </tr>\n",
       "    <tr>\n",
       "      <th>2</th>\n",
       "      <td>Bornova</td>\n",
       "      <td>1+1</td>\n",
       "      <td>139</td>\n",
       "      <td>10</td>\n",
       "      <td>1</td>\n",
       "      <td>Doğalgaz Kombi</td>\n",
       "      <td>Hayır</td>\n",
       "      <td>Evet</td>\n",
       "      <td>Evet</td>\n",
       "      <td>Evet</td>\n",
       "      <td>Deniz</td>\n",
       "      <td>211</td>\n",
       "      <td>28713</td>\n",
       "    </tr>\n",
       "    <tr>\n",
       "      <th>3</th>\n",
       "      <td>Konak</td>\n",
       "      <td>2+1</td>\n",
       "      <td>112</td>\n",
       "      <td>13</td>\n",
       "      <td>3</td>\n",
       "      <td>Klima</td>\n",
       "      <td>Hayır</td>\n",
       "      <td>Hayır</td>\n",
       "      <td>Hayır</td>\n",
       "      <td>Hayır</td>\n",
       "      <td>Yok</td>\n",
       "      <td>721</td>\n",
       "      <td>22354</td>\n",
       "    </tr>\n",
       "    <tr>\n",
       "      <th>4</th>\n",
       "      <td>Bornova</td>\n",
       "      <td>1+1</td>\n",
       "      <td>114</td>\n",
       "      <td>19</td>\n",
       "      <td>3</td>\n",
       "      <td>Doğalgaz Kombi</td>\n",
       "      <td>Evet</td>\n",
       "      <td>Evet</td>\n",
       "      <td>Evet</td>\n",
       "      <td>Evet</td>\n",
       "      <td>Deniz</td>\n",
       "      <td>55</td>\n",
       "      <td>26047</td>\n",
       "    </tr>\n",
       "  </tbody>\n",
       "</table>\n",
       "</div>"
      ]
     },
     "execution_count": 16,
     "metadata": {},
     "output_type": "execute_result"
    }
   ],
   "execution_count": 16
  },
  {
   "metadata": {
    "ExecuteTime": {
     "end_time": "2025-07-09T14:20:55.421857Z",
     "start_time": "2025-07-09T14:20:55.404857Z"
    }
   },
   "cell_type": "code",
   "source": "df.to_csv(\"homelens_temsili_veri.csv\", index=False)\n",
   "id": "76b59460da826874",
   "outputs": [],
   "execution_count": 17
  }
 ],
 "metadata": {
  "kernelspec": {
   "display_name": "Python 3",
   "language": "python",
   "name": "python3"
  },
  "language_info": {
   "codemirror_mode": {
    "name": "ipython",
    "version": 2
   },
   "file_extension": ".py",
   "mimetype": "text/x-python",
   "name": "python",
   "nbconvert_exporter": "python",
   "pygments_lexer": "ipython2",
   "version": "2.7.6"
  }
 },
 "nbformat": 4,
 "nbformat_minor": 5
}
